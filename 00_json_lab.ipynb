{
  "nbformat": 4,
  "nbformat_minor": 0,
  "metadata": {
    "colab": {
      "provenance": [],
      "collapsed_sections": [],
      "authorship_tag": "ABX9TyPypOIChWY2rttaDiykxy+s",
      "include_colab_link": true
    },
    "kernelspec": {
      "name": "python3",
      "display_name": "Python 3"
    },
    "language_info": {
      "name": "python"
    }
  },
  "cells": [
    {
      "cell_type": "markdown",
      "metadata": {
        "id": "view-in-github",
        "colab_type": "text"
      },
      "source": [
        "<a href=\"https://colab.research.google.com/github/leonardonobrega/colab/blob/main/00_json_lab.ipynb\" target=\"_parent\"><img src=\"https://colab.research.google.com/assets/colab-badge.svg\" alt=\"Open In Colab\"/></a>"
      ]
    },
    {
      "cell_type": "code",
      "source": [
        "import json\n",
        "from datetime import datetime"
      ],
      "metadata": {
        "id": "QkGhBdcpL3ZO"
      },
      "execution_count": 178,
      "outputs": []
    },
    {
      "cell_type": "code",
      "source": [
        "def datetime_parse(_datetime):\n",
        "    return datetime.strptime(_datetime, \"%Y-%m-%dT%H:%M:%S\") if isinstance(_datetime, str) else _datetime\n"
      ],
      "metadata": {
        "id": "jkSmK_4DFyG4"
      },
      "execution_count": 179,
      "outputs": []
    },
    {
      "cell_type": "code",
      "source": [
        "class Pessoa:\n",
        "  def __init__(self, nome: str, idade: int, criado_em: datetime):\n",
        "    self.nome = nome\n",
        "    self.idade = idade\n",
        "    self.criado_em = datetime_parse(criado_em)\n",
        "\n",
        "  @staticmethod\n",
        "  def from_json(json_data: str) -> 'Pessoa':\n",
        "    return Pessoa(**json.loads(json_data))\n",
        "\n",
        "  def to_json(self) -> str:\n",
        "    obj = Pessoa(self.nome, self.idade, self.criado_em)\n",
        "    obj.criado_em = self.criado_em.isoformat()\n",
        "    return json.dumps(obj.__dict__)"
      ],
      "metadata": {
        "id": "pDELhNv-9HlM"
      },
      "execution_count": 180,
      "outputs": []
    },
    {
      "cell_type": "code",
      "source": [
        "json_data = '{\"nome\":\"Leonardo\",\"idade\":32,\"criado_em\":\"2020-08-09T11:24:20\"}'\n",
        "print(json_data)\n",
        "\n",
        "pessoa_nova = Pessoa.from_json(json_data)\n",
        "print(pessoa_nova.nome)\n",
        "print(pessoa_nova.idade)\n",
        "print(pessoa_nova.criado_em.day)\n",
        "print(pessoa_nova.criado_em.month)\n",
        "print(pessoa_nova.criado_em.year)\n",
        "print(pessoa_nova.__dict__)\n",
        "print(pessoa_nova.to_json())\n"
      ],
      "metadata": {
        "colab": {
          "base_uri": "https://localhost:8080/"
        },
        "id": "M8GlbfWC9eHq",
        "outputId": "8852df9a-7e7f-4574-d24f-27ff4ad7cf7f"
      },
      "execution_count": 181,
      "outputs": [
        {
          "output_type": "stream",
          "name": "stdout",
          "text": [
            "{\"nome\":\"Leonardo\",\"idade\":32,\"criado_em\":\"2020-08-09T11:24:20\"}\n",
            "Leonardo\n",
            "32\n",
            "9\n",
            "8\n",
            "2020\n",
            "{'nome': 'Leonardo', 'idade': 32, 'criado_em': datetime.datetime(2020, 8, 9, 11, 24, 20)}\n",
            "{\"nome\": \"Leonardo\", \"idade\": 32, \"criado_em\": \"2020-08-09T11:24:20\"}\n"
          ]
        }
      ]
    }
  ]
}