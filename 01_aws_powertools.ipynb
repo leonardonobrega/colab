{
  "nbformat": 4,
  "nbformat_minor": 0,
  "metadata": {
    "colab": {
      "provenance": [],
      "collapsed_sections": [],
      "authorship_tag": "ABX9TyPhnVnxKRAuBXw0Q17y34cj",
      "include_colab_link": true
    },
    "kernelspec": {
      "name": "python3",
      "display_name": "Python 3"
    },
    "language_info": {
      "name": "python"
    }
  },
  "cells": [
    {
      "cell_type": "markdown",
      "metadata": {
        "id": "view-in-github",
        "colab_type": "text"
      },
      "source": [
        "<a href=\"https://colab.research.google.com/github/leonardonobrega/colab/blob/main/01_aws_powertools.ipynb\" target=\"_parent\"><img src=\"https://colab.research.google.com/assets/colab-badge.svg\" alt=\"Open In Colab\"/></a>"
      ]
    },
    {
      "cell_type": "markdown",
      "source": [
        "https://awslabs.github.io/aws-lambda-powertools-python/2.1.0/"
      ],
      "metadata": {
        "id": "bogE_1rCTFu0"
      }
    },
    {
      "cell_type": "code",
      "source": [
        "%pip install jmespath\n",
        "%pip install \"aws-lambda-powertools[parser]\""
      ],
      "metadata": {
        "colab": {
          "base_uri": "https://localhost:8080/"
        },
        "id": "SDt6K4HXPTZ9",
        "outputId": "6531279f-91cd-469c-d630-4580035124b8"
      },
      "execution_count": 17,
      "outputs": [
        {
          "output_type": "stream",
          "name": "stdout",
          "text": [
            "Looking in indexes: https://pypi.org/simple, https://us-python.pkg.dev/colab-wheels/public/simple/\n",
            "Requirement already satisfied: jmespath in /usr/local/lib/python3.7/dist-packages (1.0.1)\n",
            "Looking in indexes: https://pypi.org/simple, https://us-python.pkg.dev/colab-wheels/public/simple/\n",
            "Requirement already satisfied: aws-lambda-powertools[parser] in /usr/local/lib/python3.7/dist-packages (2.1.0)\n",
            "Requirement already satisfied: pydantic<2.0.0,>=1.8.2 in /usr/local/lib/python3.7/dist-packages (from aws-lambda-powertools[parser]) (1.10.2)\n",
            "Requirement already satisfied: typing-extensions>=4.1.0 in /usr/local/lib/python3.7/dist-packages (from pydantic<2.0.0,>=1.8.2->aws-lambda-powertools[parser]) (4.1.1)\n"
          ]
        }
      ]
    },
    {
      "cell_type": "code",
      "source": [
        "from aws_lambda_powertools.utilities.parser import event_parser, BaseModel\n",
        "from aws_lambda_powertools.utilities.typing import LambdaContext\n",
        "from typing import List, Optional\n",
        "from datetime import datetime\n",
        "\n",
        "import json"
      ],
      "metadata": {
        "id": "0GyYbxwQPFSy"
      },
      "execution_count": 18,
      "outputs": []
    },
    {
      "cell_type": "code",
      "source": [
        "class OrderItem(BaseModel):\n",
        "    id: int\n",
        "    quantity: int\n",
        "    description: str\n",
        "\n",
        "class Order(BaseModel):\n",
        "    id: int\n",
        "    description: str\n",
        "    items: List[OrderItem] # nesting models are supported\n",
        "    optional_field: Optional[str] # this field may or may not be available when parsing\n",
        "    created_at: datetime"
      ],
      "metadata": {
        "id": "HVEx1yL1PJjk"
      },
      "execution_count": 19,
      "outputs": []
    },
    {
      "cell_type": "code",
      "execution_count": 20,
      "metadata": {
        "colab": {
          "base_uri": "https://localhost:8080/"
        },
        "id": "Bfk-K27uOuQB",
        "outputId": "fe1efbe3-8152-4c50-b029-e0511cc8ed1b"
      },
      "outputs": [
        {
          "output_type": "stream",
          "name": "stdout",
          "text": [
            "10876546789\n",
            "My order\n",
            "2020-08-09 11:24:20\n",
            "9\n",
            "8\n",
            "2020\n",
            "[OrderItem(id=1015938732, quantity=1, description='item xpto')]\n",
            "10876546789\n",
            "My order\n",
            "2020-08-09 11:24:20\n",
            "9\n",
            "8\n",
            "2020\n",
            "[OrderItem(id=1015938732, quantity=1, description='item xpto')]\n"
          ]
        }
      ],
      "source": [
        "@event_parser(model=Order)\n",
        "def handler(event: Order, context: LambdaContext):\n",
        "    print(event.id)\n",
        "    print(event.description)\n",
        "    print(event.created_at)\n",
        "    print(event.created_at.day)\n",
        "    print(event.created_at.month)\n",
        "    print(event.created_at.year)\n",
        "    print(event.items)\n",
        "\n",
        "    order_items = [item for item in event.items]\n",
        "    ...\n",
        "\n",
        "payload = {\n",
        "    \"id\": 10876546789,\n",
        "    \"description\": \"My order\",\n",
        "    \"created_at\": \"2020-08-09T11:24:20\",\n",
        "    \"items\": [\n",
        "        {\n",
        "            \"id\": 1015938732,\n",
        "            \"quantity\": 1,\n",
        "            \"description\": \"item xpto\"\n",
        "        }\n",
        "    ]\n",
        "}\n",
        "\n",
        "handler(event=payload, context=LambdaContext())\n",
        "handler(event=json.dumps(payload), context=LambdaContext()) # also works if event is a JSON string\n"
      ]
    }
  ]
}